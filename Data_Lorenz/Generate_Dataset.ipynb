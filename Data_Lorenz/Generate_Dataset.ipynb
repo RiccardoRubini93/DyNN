{
 "cells": [
  {
   "cell_type": "code",
   "execution_count": 1,
   "metadata": {},
   "outputs": [],
   "source": [
    "%matplotlib tk\n",
    "import numpy as np\n",
    "import pylab as pl\n",
    "from scipy.integrate import odeint"
   ]
  },
  {
   "cell_type": "markdown",
   "metadata": {},
   "source": [
    "The Lorenz attractor is a strange attractor that arises in a system of\n",
    "equations describing the \\mbox{2-dimensional} flow of fluid of uniform depth, with\n",
    "an imposed vertical temperature difference.\n",
    "In the early 1960s, Lorenz discovered the chaotic behavior of a\n",
    "simplified 3-dimensional system of this problem,\n",
    "now known as the Lorenz equations:\n",
    "\n",
    "\\begin{eqnarray}\n",
    "  \\frac{d}{d t}X &=& \\sigma(Y-X) \\label{eq:X}\\\\\n",
    "  \\frac{d}{d t}Y &=& -XZ + rX -Y \\label{eq:Y}\\\\\n",
    "  \\frac{d}{d t}Z &=& XY - bZ \\label{eq:Z}\n",
    "\\end{eqnarray}\n",
    "\n",
    "\\noindent \n",
    "The numerical solution of equations \n",
    "is calculated with\n",
    "$\\sigma = 3$,\n",
    "$r = 26.5$ and\n",
    "$b = 1$."
   ]
  },
  {
   "cell_type": "markdown",
   "metadata": {},
   "source": [
    "We generate the dataset integating the Lorenz system for a time T = 20 starting from 10 different initial conditions chosen randomly.\n",
    "The 10 different initial solution will be appended to two matrices $Nt \\times 3$ called $input$ and $output$ of the Neural Net.\n",
    "The $input$ and the $output$ matrices are shifted by dt ($output(t) = input(t+dt)$) in order to teach the NN the dynamics of the system."
   ]
  },
  {
   "cell_type": "code",
   "execution_count": 9,
   "metadata": {},
   "outputs": [],
   "source": [
    "def lorenz(X, t, sigma, beta, rho):\n",
    "    \"\"\"The Lorenz equations.\"\"\"\n",
    "    u, v, w = X\n",
    "    up = -sigma*(u - v)\n",
    "    vp = rho*u - v - u*w\n",
    "    wp = -beta*w + u*v\n",
    "    return up, vp, wp\n",
    "\n",
    "# Lorenz paramters and initial conditions\n",
    "sigma, beta, rho = 10, 2.667, 28\n",
    "\n",
    "Ni = 10 #number of initial conditions\n",
    "\n",
    "inputs_  = []\n",
    "outputs_ = []\n",
    "\n",
    "for i in range(Ni):\n",
    "\n",
    "\n",
    "    u0, v0, w0 =  10*(np.random.rand(3)-0.5) #0, 1, 1.05\n",
    "\n",
    "    # Maximum time point and total number of time points\n",
    "    tmax, n = 20, 2000\n",
    "\n",
    "    # Integrate the Lorenz equations on the time grid t\n",
    "    t = np.linspace(0, tmax, n)\n",
    "    f = odeint(lorenz, (u0, v0, w0), t, args=(sigma, beta, rho))\n",
    "    \n",
    "    inputs_.append(f[0:-1,:]) # = np.vstack((inputs,f[0:-1,:]))\n",
    "    outputs_.append(f[1:,:]) #= np.vstack((outputs,f[1:,:]))\n",
    "    \n",
    "    x, y, z = f.T\n",
    "\n",
    "    fig = pl.figure(1)\n",
    "\n",
    "    ax = fig.gca(projection='3d')\n",
    "\n",
    "    # Make the line multi-coloured by plotting it in segments of length s which\n",
    "    # change in colour across the whole time series.\n",
    "    s = 100\n",
    "    c = np.linspace(0,1,n)\n",
    "    for i in range(0,n-s,s):\n",
    "        ax.plot(x[i:i+s+1], y[i:i+s+1], z[i:i+s+1], color=(1,c[i],0), alpha=0.6)\n",
    "     \n",
    "    #ax.plot(x,y,z,\"-\",lw=1,alpha=0.5)\n",
    "    ax.plot(u0,v0,w0,\"ro\",ms=5)\n",
    "    #ax.set_axis_off() \n",
    "\n",
    "ax.set_xlabel('X')\n",
    "ax.set_ylabel('Y')\n",
    "ax.set_zlabel('Z')\n",
    "\n",
    "pl.savefig(\"Lorenz_dataset.png\")"
   ]
  },
  {
   "cell_type": "code",
   "execution_count": 14,
   "metadata": {},
   "outputs": [],
   "source": [
    "#a bit ofreshaping to save the results in a more convenient form \n",
    "\n",
    "a =  np.asarray(inputs_).shape[0]\n",
    "b =  np.asarray(inputs_).shape[1]\n",
    "c =  np.asarray(inputs_).shape[2]"
   ]
  },
  {
   "cell_type": "code",
   "execution_count": 17,
   "metadata": {},
   "outputs": [],
   "source": [
    "#save the dataset to be imported into the NN\n",
    "\n",
    "np.savetxt(\"inputs\",np.asarray(inputs_).reshape(a*b,c))\n",
    "np.savetxt(\"outputs\",np.asarray(outputs_).reshape(a*b,c))"
   ]
  },
  {
   "cell_type": "code",
   "execution_count": null,
   "metadata": {},
   "outputs": [],
   "source": []
  }
 ],
 "metadata": {
  "kernelspec": {
   "display_name": "Python 3",
   "language": "python",
   "name": "python3"
  },
  "language_info": {
   "codemirror_mode": {
    "name": "ipython",
    "version": 3
   },
   "file_extension": ".py",
   "mimetype": "text/x-python",
   "name": "python",
   "nbconvert_exporter": "python",
   "pygments_lexer": "ipython3",
   "version": "3.6.9"
  }
 },
 "nbformat": 4,
 "nbformat_minor": 2
}
