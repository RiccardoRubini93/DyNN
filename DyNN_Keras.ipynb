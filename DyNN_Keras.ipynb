{
 "cells": [
  {
   "cell_type": "code",
   "execution_count": 44,
   "metadata": {},
   "outputs": [],
   "source": [
    "%matplotlib tk\n",
    "import numpy as np\n",
    "import pylab as pl\n",
    "from sklearn.model_selection import train_test_split\n",
    "from scipy.integrate import odeint"
   ]
  },
  {
   "cell_type": "code",
   "execution_count": 2,
   "metadata": {},
   "outputs": [
    {
     "name": "stderr",
     "output_type": "stream",
     "text": [
      "/home/riccardo/.local/lib/python3.6/site-packages/tensorflow/python/framework/dtypes.py:516: FutureWarning: Passing (type, 1) or '1type' as a synonym of type is deprecated; in a future version of numpy, it will be understood as (type, (1,)) / '(1,)type'.\n",
      "  _np_qint8 = np.dtype([(\"qint8\", np.int8, 1)])\n",
      "/home/riccardo/.local/lib/python3.6/site-packages/tensorflow/python/framework/dtypes.py:517: FutureWarning: Passing (type, 1) or '1type' as a synonym of type is deprecated; in a future version of numpy, it will be understood as (type, (1,)) / '(1,)type'.\n",
      "  _np_quint8 = np.dtype([(\"quint8\", np.uint8, 1)])\n",
      "/home/riccardo/.local/lib/python3.6/site-packages/tensorflow/python/framework/dtypes.py:518: FutureWarning: Passing (type, 1) or '1type' as a synonym of type is deprecated; in a future version of numpy, it will be understood as (type, (1,)) / '(1,)type'.\n",
      "  _np_qint16 = np.dtype([(\"qint16\", np.int16, 1)])\n",
      "/home/riccardo/.local/lib/python3.6/site-packages/tensorflow/python/framework/dtypes.py:519: FutureWarning: Passing (type, 1) or '1type' as a synonym of type is deprecated; in a future version of numpy, it will be understood as (type, (1,)) / '(1,)type'.\n",
      "  _np_quint16 = np.dtype([(\"quint16\", np.uint16, 1)])\n",
      "/home/riccardo/.local/lib/python3.6/site-packages/tensorflow/python/framework/dtypes.py:520: FutureWarning: Passing (type, 1) or '1type' as a synonym of type is deprecated; in a future version of numpy, it will be understood as (type, (1,)) / '(1,)type'.\n",
      "  _np_qint32 = np.dtype([(\"qint32\", np.int32, 1)])\n",
      "/home/riccardo/.local/lib/python3.6/site-packages/tensorflow/python/framework/dtypes.py:525: FutureWarning: Passing (type, 1) or '1type' as a synonym of type is deprecated; in a future version of numpy, it will be understood as (type, (1,)) / '(1,)type'.\n",
      "  np_resource = np.dtype([(\"resource\", np.ubyte, 1)])\n",
      "/home/riccardo/.local/lib/python3.6/site-packages/tensorboard/compat/tensorflow_stub/dtypes.py:541: FutureWarning: Passing (type, 1) or '1type' as a synonym of type is deprecated; in a future version of numpy, it will be understood as (type, (1,)) / '(1,)type'.\n",
      "  _np_qint8 = np.dtype([(\"qint8\", np.int8, 1)])\n",
      "/home/riccardo/.local/lib/python3.6/site-packages/tensorboard/compat/tensorflow_stub/dtypes.py:542: FutureWarning: Passing (type, 1) or '1type' as a synonym of type is deprecated; in a future version of numpy, it will be understood as (type, (1,)) / '(1,)type'.\n",
      "  _np_quint8 = np.dtype([(\"quint8\", np.uint8, 1)])\n",
      "/home/riccardo/.local/lib/python3.6/site-packages/tensorboard/compat/tensorflow_stub/dtypes.py:543: FutureWarning: Passing (type, 1) or '1type' as a synonym of type is deprecated; in a future version of numpy, it will be understood as (type, (1,)) / '(1,)type'.\n",
      "  _np_qint16 = np.dtype([(\"qint16\", np.int16, 1)])\n",
      "/home/riccardo/.local/lib/python3.6/site-packages/tensorboard/compat/tensorflow_stub/dtypes.py:544: FutureWarning: Passing (type, 1) or '1type' as a synonym of type is deprecated; in a future version of numpy, it will be understood as (type, (1,)) / '(1,)type'.\n",
      "  _np_quint16 = np.dtype([(\"quint16\", np.uint16, 1)])\n",
      "/home/riccardo/.local/lib/python3.6/site-packages/tensorboard/compat/tensorflow_stub/dtypes.py:545: FutureWarning: Passing (type, 1) or '1type' as a synonym of type is deprecated; in a future version of numpy, it will be understood as (type, (1,)) / '(1,)type'.\n",
      "  _np_qint32 = np.dtype([(\"qint32\", np.int32, 1)])\n",
      "/home/riccardo/.local/lib/python3.6/site-packages/tensorboard/compat/tensorflow_stub/dtypes.py:550: FutureWarning: Passing (type, 1) or '1type' as a synonym of type is deprecated; in a future version of numpy, it will be understood as (type, (1,)) / '(1,)type'.\n",
      "  np_resource = np.dtype([(\"resource\", np.ubyte, 1)])\n"
     ]
    }
   ],
   "source": [
    "from tensorflow.keras.models import Sequential\n",
    "from tensorflow.keras.layers import Dense,Dropout\n",
    "from tensorflow.keras.utils import to_categorical"
   ]
  },
  {
   "cell_type": "code",
   "execution_count": 118,
   "metadata": {},
   "outputs": [],
   "source": [
    "#load the dataset \n",
    "\n",
    "IN_  = np.genfromtxt(\"Data_Lorenz/inputs\")\n",
    "OUT_ = np.genfromtxt(\"Data_Lorenz/outputs\")\n",
    "\n",
    "#normalise the data in [-1,1]\n",
    "\n",
    "IN  = IN_/np.max(IN_)\n",
    "OUT = OUT_/np.max(OUT_)"
   ]
  },
  {
   "cell_type": "code",
   "execution_count": 124,
   "metadata": {},
   "outputs": [],
   "source": [
    "N = IN.shape[1]\n",
    "\n",
    "# Build the model.\n",
    "model = Sequential()\n",
    "model.add(Dense(10, input_dim=N, activation='sigmoid'))\n",
    "model.add(Dense(16, activation='sigmoid'))\n",
    "model.add(Dense(16, activation='linear'))\n",
    "model.add(Dense(N, activation='linear'))\n",
    "\n",
    "# Compile the model.\n",
    "model.compile(optimizer='adam', loss='mse', metrics=['accuracy'])"
   ]
  },
  {
   "cell_type": "code",
   "execution_count": 125,
   "metadata": {},
   "outputs": [
    {
     "name": "stdout",
     "output_type": "stream",
     "text": [
      "Epoch 1/10\n",
      "19990/19990 [==============================] - 23s 1ms/sample - loss: 0.0033 - acc: 0.9925\n",
      "Epoch 2/10\n",
      "19990/19990 [==============================] - 23s 1ms/sample - loss: 1.2735e-04 - acc: 0.9984\n",
      "Epoch 3/10\n",
      "19990/19990 [==============================] - 23s 1ms/sample - loss: 7.3903e-05 - acc: 0.9990\n",
      "Epoch 4/10\n",
      "19990/19990 [==============================] - 22s 1ms/sample - loss: 4.7402e-05 - acc: 0.9993\n",
      "Epoch 5/10\n",
      "19990/19990 [==============================] - 22s 1ms/sample - loss: 3.7582e-05 - acc: 0.9990\n",
      "Epoch 6/10\n",
      "19990/19990 [==============================] - 22s 1ms/sample - loss: 2.9618e-05 - acc: 0.9991\n",
      "Epoch 7/10\n",
      "19990/19990 [==============================] - 22s 1ms/sample - loss: 2.5268e-05 - acc: 0.9994\n",
      "Epoch 8/10\n",
      "19990/19990 [==============================] - 22s 1ms/sample - loss: 2.0751e-05 - acc: 0.9994\n",
      "Epoch 9/10\n",
      "19990/19990 [==============================] - 22s 1ms/sample - loss: 1.6726e-05 - acc: 0.9995\n",
      "Epoch 10/10\n",
      "19990/19990 [==============================] - 21s 1ms/sample - loss: 1.4628e-05 - acc: 0.9996\n"
     ]
    }
   ],
   "source": [
    "nepoch = 10\n",
    "nbatch = 1\n",
    "#history = model.fit(IN_Train, OUT_Train,validation_data=(IN_Test, OUT_Test),epochs=nepoch, batch_size=nbatch) \n",
    "history = model.fit(IN, OUT,epochs=nepoch, batch_size=nbatch) "
   ]
  },
  {
   "cell_type": "code",
   "execution_count": 129,
   "metadata": {},
   "outputs": [],
   "source": [
    "pl.figure(1)\n",
    "\n",
    "pl.clf()\n",
    "\n",
    "loss = history.history['loss']\n",
    "acc  = history.history['acc']\n",
    "epochs = range(1, len(loss) + 1)\n",
    "pl.semilogy(epochs, loss, \"r--o\", lw = 1, mfc = \"none\" ,label='Loss')\n",
    "#pl.plot(epochs, acc/np.max(acc), \"b--\", lw = 1, mfc = \"none\" ,label='Accuracy')\n",
    "\n",
    "pl.ylabel('Training Loss')\n",
    "pl.xlabel('Epochs')\n",
    "pl.legend()\n",
    "pl.show()\n",
    "\n",
    "pl.savefig(\"Train_loss.png\")"
   ]
  },
  {
   "cell_type": "code",
   "execution_count": 130,
   "metadata": {},
   "outputs": [
    {
     "data": {
      "text/plain": [
       "Text(0, 0.5, 'Z(t)')"
      ]
     },
     "execution_count": 130,
     "metadata": {},
     "output_type": "execute_result"
    }
   ],
   "source": [
    "#compare the target with the reconstructed target\n",
    "\n",
    "Y_NN = model.predict(IN)\n",
    "\n",
    "pl.figure(2)\n",
    "\n",
    "pl.subplot(3,1,1)\n",
    "\n",
    "pl.plot(OUT[:,0],\"r-\",label=\"target\")\n",
    "pl.plot(Y_NN[:,0],\"k--\",lw=1,label=\"rec target\")\n",
    "pl.xlabel(\"t\",fontsize=12)\n",
    "pl.ylabel(\"X(t)\",fontsize=12)\n",
    "pl.legend()\n",
    "\n",
    "pl.subplot(3,1,2)\n",
    "\n",
    "pl.plot(OUT[:,1],\"r-\",label=\"target\")\n",
    "pl.plot(Y_NN[:,1],\"k--\",lw=1,label=\"rec target\")\n",
    "pl.xlabel(\"t\",fontsize=12)\n",
    "pl.ylabel(\"Y(t)\",fontsize=12)\n",
    "\n",
    "pl.subplot(3,1,3)\n",
    "\n",
    "pl.plot(OUT[:,2],\"r-\",label=\"target\")\n",
    "pl.plot(Y_NN[:,2],\"k--\",lw=1,label=\"rec target\")\n",
    "pl.xlabel(\"t\",fontsize=12)\n",
    "pl.ylabel(\"Z(t)\",fontsize=12)"
   ]
  },
  {
   "cell_type": "code",
   "execution_count": 131,
   "metadata": {},
   "outputs": [],
   "source": [
    "def lorenz(X, t, sigma, beta, rho):\n",
    "    \"\"\"The Lorenz equations.\"\"\"\n",
    "    u, v, w = X\n",
    "    up = -sigma*(u - v)\n",
    "    vp = rho*u - v - u*w\n",
    "    wp = -beta*w + u*v\n",
    "    return up, vp, wp\n",
    "\n",
    "#choose initial condition\n",
    "\n",
    "t = np.arange(0,100,0.01)\n",
    "\n",
    "x0 =  IN[0,:].reshape(3,1) #5*(np.random.randn(3,1)-0.5)\n",
    "\n",
    "u0,v0,w0 = float(x0[0]),float(x0[1]),float(x0[2])\n",
    "# Lorenz paramters and initial conditions\n",
    "sigma, beta, rho = 10, 2.667, 28\n",
    "\n",
    "#integration of the Lorenz system just for reference\n",
    "\n",
    "f = odeint(lorenz, (u0, v0, w0), t, args=(sigma, beta, rho))\n",
    "x_true, y_true, z_true = f.T\n",
    "\n",
    "#temporal integration of the neural network\n",
    "\n",
    "ynn = np.zeros((len(t),3))\n",
    "ynn[0,:] = x0.reshape(3)\n",
    "\n",
    "for j in range(1,len(t)):\n",
    "    \n",
    "    y0 = model.predict(x0.T)\n",
    "    ynn[j,:] = y0*np.max(OUT_) #scale factor involved in the normalisation\n",
    "    x0       = y0.T"
   ]
  },
  {
   "cell_type": "code",
   "execution_count": 149,
   "metadata": {},
   "outputs": [],
   "source": [
    "x_,y_,z_  = ynn[:,0],ynn[:,1],ynn[:,2]\n",
    "\n",
    "fig = pl.figure(1)\n",
    "\n",
    "ax = fig.gca(projection='3d')\n",
    "\n",
    "# Make the line multi-coloured by plotting it in segments of length s which\n",
    "# change in colour across the whole time series.\n",
    "s = 10\n",
    "n = 1000 # plot first 10 second of the simulation\n",
    "#c = np.linspace(0,1,n)\n",
    "\n",
    "ax.plot(x_[0],y_[0],z_[0],\"ro\")\n",
    "ax.plot(x_true[0],y_true[0],z_true[0],\"k-x\",label=\"DyNN\")\n",
    "\n",
    "ax.plot(x_true, y_true, z_true, color=\"r\",ls=\":\",lw=1, alpha=0.3,label=\"Lorenz attractor\")\n",
    "ax.legend()\n",
    "\n",
    "ax.set_xlabel('X')\n",
    "ax.set_ylabel('Y')\n",
    "ax.set_zlabel('Z')\n",
    "\n",
    "for i in range(0,n-s,s):\n",
    "    #ax.plot(x_true[i:i+s+1], y_true[i:i+s+1], z_true[i:i+s+1], color=\"k\",ls=\"-\",lw=1, alpha=0.5)\n",
    "    ax.plot(x_[i:i+s+1], y_[i:i+s+1], z_[i:i+s+1], color=\"k\",ls=\"-\",lw=1, alpha=0.8)\n",
    "    #ax.plot(Ynn[i:i+s+1,0], Ynn[i:i+s+1,1], Ynn[i:i+s+1,2], color=\"b\",ls=\"-\",lw=1, alpha=0.5)\n",
    "    \n",
    "    pl.title(\"t = \" + str(np.round(t[i])))\n",
    "    pl.pause(0.05)\n",
    "\n",
    "    #ax.set_axis_off() \n",
    "pl.savefig(\"DyNN_Lorenz.png\")"
   ]
  },
  {
   "cell_type": "code",
   "execution_count": null,
   "metadata": {},
   "outputs": [],
   "source": []
  }
 ],
 "metadata": {
  "kernelspec": {
   "display_name": "Python 3",
   "language": "python",
   "name": "python3"
  },
  "language_info": {
   "codemirror_mode": {
    "name": "ipython",
    "version": 3
   },
   "file_extension": ".py",
   "mimetype": "text/x-python",
   "name": "python",
   "nbconvert_exporter": "python",
   "pygments_lexer": "ipython3",
   "version": "3.6.9"
  }
 },
 "nbformat": 4,
 "nbformat_minor": 2
}
